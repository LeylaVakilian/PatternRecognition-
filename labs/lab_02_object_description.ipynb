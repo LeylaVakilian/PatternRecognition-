{
 "cells": [
  {
   "cell_type": "markdown",
   "metadata": {},
   "source": [
    "# [IAPR 2019:][iapr2019] Lab 2 ‒  Object description\n",
    "\n",
    "**Author:** \n",
    "\n",
    "Kristoffer Landsnes\n",
    "\n",
    "&\n",
    "\n",
    "Arthur Gassner (250089)\n",
    "\n",
    "**Due date:** 19.04.2019\n",
    "\n",
    "[iapr2019]: https://github.com/LTS5/iapr-2019"
   ]
  },
  {
   "cell_type": "markdown",
   "metadata": {},
   "source": [
    "## Extract relevant data\n",
    "We first need to extract the `lab-02-data.tar.gz` archive.\n",
    "To this end, we use the [tarfile] module from the Python standard library.\n",
    "\n",
    "[tarfile]: https://docs.python.org/3.6/library/tarfile.html"
   ]
  },
  {
   "cell_type": "code",
   "execution_count": 2,
   "metadata": {},
   "outputs": [],
   "source": [
    "import tarfile\n",
    "import os\n",
    "\n",
    "data_base_path = os.path.join(os.pardir, 'data')\n",
    "data_folder = 'lab-02-data'\n",
    "tar_path = os.path.join(data_base_path, data_folder + '.tar.gz')\n",
    "with tarfile.open(tar_path, mode='r:gz') as tar:\n",
    "    tar.extractall(path=data_base_path)"
   ]
  },
  {
   "cell_type": "markdown",
   "metadata": {},
   "source": [
    "## Description\n",
    "In the `lab-02-data/` folder, you will find 28x28 grey-scale pictures of handwritten \"0\" and \"1\".\n",
    "These digits have been extracted from MNIST dataset (http://yann.lecun.com/exdb/mnist/).\n",
    "\n",
    "Your goal is to extract, from each of those images, a 2-dimensional feature vector (i.e. 2 features) and to plot them all on a 2D graph.\n",
    "If you have chosen good features, the vectors of the \"0\"'s should nicely cluster in one part of the plane and those of the \"1\"'s in another.\n",
    "\n",
    "Please try first the Fourier Descriptors.\n",
    "You can make several attempts: e.g. with and without invariance to rotation, translation, scaling, etc.\n",
    "You can also for instance rotate the images and assess the invariance in rotation.\n",
    "\n",
    "**Note:** for the Fourier descriptors, the u_k signal has to be constructed by following the contour point after point.\n",
    "Some pre-processing (image binarization, possibly some Mathematical Morphology) might be useful.\n",
    "\n",
    "Then feel free to try other features, the more you try, the better it will be (for you)."
   ]
  },
  {
   "cell_type": "markdown",
   "metadata": {},
   "source": [
    "### 1.1 Data visualization"
   ]
  },
  {
   "cell_type": "code",
   "execution_count": 3,
   "metadata": {
    "scrolled": true
   },
   "outputs": [
    {
     "data": {
      "image/png": "[encoded data removed]",
      "text/plain": [
       "<Figure size 864x216 with 20 Axes>"
      ]
     },
     "metadata": {
      "needs_background": "light"
     },
     "output_type": "display_data"
    }
   ],
   "source": [
    "import skimage.io\n",
    "import matplotlib.pyplot as plt\n",
    "%matplotlib inline\n",
    "\n",
    "# Load images\n",
    "data_base_path = os.path.join(os.pardir, 'data')\n",
    "data_folder = 'lab-02-data'\n",
    "#  Load zeros\n",
    "zeros_path = os.path.join(data_base_path, data_folder, '0')\n",
    "zeros_names = [nm for nm in os.listdir(zeros_path) if '.png' in nm]  # make sure to only load .png\n",
    "zeros_names.sort()  # sort file names\n",
    "ic = skimage.io.imread_collection([os.path.join(zeros_path, nm) for nm in zeros_names])\n",
    "zeros_im = skimage.io.concatenate_images(ic)\n",
    "#  Load ones\n",
    "ones_path = os.path.join(data_base_path, data_folder, '1')\n",
    "ones_names = [nm for nm in os.listdir(ones_path) if '.png' in nm]  # make sure to only load .png\n",
    "ones_names.sort()  # sort file names\n",
    "ic = skimage.io.imread_collection(([os.path.join(ones_path, nm) for nm in ones_names]))\n",
    "ones_im = skimage.io.concatenate_images(ic)\n",
    "\n",
    "# Plot images\n",
    "fig, axes = plt.subplots(2, len(zeros_im), figsize=(12, 3))\n",
    "for ax, im, nm in zip(axes[0], zeros_im, zeros_names):\n",
    "    ax.imshow(im, cmap='gray')\n",
    "    ax.axis('off')\n",
    "    ax.set_title(nm)\n",
    "for ax, im, nm in zip(axes[1], ones_im, ones_names):\n",
    "    ax.imshow(im, cmap='gray')\n",
    "    ax.axis('off')\n",
    "    ax.set_title(nm)"
   ]
  },
  {
   "cell_type": "markdown",
   "metadata": {},
   "source": [
    "### 1.2 Fourier descriptors\n",
    "Add your implementation and discussion"
   ]
  },
  {
   "cell_type": "code",
   "execution_count": 89,
   "metadata": {},
   "outputs": [],
   "source": [
    "import numpy as np\n",
    "import matplotlib.pyplot as plt\n",
    "import cmath \n",
    "\n",
    "from skimage import measure"
   ]
  },
  {
   "cell_type": "code",
   "execution_count": 68,
   "metadata": {},
   "outputs": [],
   "source": [
    "def contour2matrix(contour, shape):\n",
    "    \"\"\"\n",
    "    Convert contour to matrix\n",
    "    \"\"\"\n",
    "    contour_matrix = np.zeros(shape)\n",
    "    for x, y in zip(contour[:,1], contour[:,0]):\n",
    "        contour_matrix[int(round(y)),int(round(x))] = 1\n",
    "        \n",
    "    return contour_matrix"
   ]
  },
  {
   "cell_type": "code",
   "execution_count": 73,
   "metadata": {
    "scrolled": false
   },
   "outputs": [
    {
     "data": {
      "image/png": "[encoded data removed]",
      "text/plain": [
       "<Figure size 864x216 with 20 Axes>"
      ]
     },
     "metadata": {
      "needs_background": "light"
     },
     "output_type": "display_data"
    }
   ],
   "source": [
    "def get_contour(img, \n",
    "                iso_value=100):\n",
    "    \"\"\"\n",
    "    Return the biggest contour (as a matrix) found in the img\n",
    "    \"\"\"\n",
    "    # Find contours at a constant value of 100\n",
    "    contours = measure.find_contours(img, 100)\n",
    "    \n",
    "    # Sort contours so that the contour with the \n",
    "    # biggest amount of points will be first\n",
    "    contours.sort(key = lambda c: c.shape[0], reverse=True)\n",
    "    \n",
    "    contour = contours[0]\n",
    "    \n",
    "    return contour\n",
    "\n",
    "### TEST RUN ###\n",
    "\n",
    "# Display the image and plot all contours found\n",
    "# Plot images\n",
    "\n",
    "\n",
    "fig, axes = plt.subplots(2, len(zeros_im), figsize=(12, 3))\n",
    "for ax, im, nm in zip(axes[0], zeros_im, zeros_names):\n",
    "    c = get_contour(im)\n",
    "    ax.imshow(contour2matrix(c, im.shape), cmap='gray')\n",
    "    ax.axis('off')\n",
    "    ax.set_title(nm)\n",
    "for ax, im, nm in zip(axes[1], ones_im, ones_names):\n",
    "    c = get_contour(im)\n",
    "    ax.imshow(contour2matrix(c, im.shape), cmap='gray')\n",
    "    ax.axis('off')\n",
    "    ax.set_title(nm)"
   ]
  },
  {
   "cell_type": "code",
   "execution_count": 92,
   "metadata": {},
   "outputs": [],
   "source": [
    "# DFT\n",
    "\n",
    "def compute_complex_signal(contour):\n",
    "    \"\"\"\n",
    "    Take a contour (i.e. a Nx2 matrix with the (x,y) coordinates\n",
    "    of the N points)\n",
    "    Return a Nx1 matrix of successive complex points, where u = x + j*y\n",
    "    \"\"\"\n",
    "    complex_signal = []\n",
    "    for x, y in zip(contour[:,1], contour[:,0]):\n",
    "        u = x + y*1j\n",
    "        complex_signal.append(u)\n",
    "    return complex_signal"
   ]
  },
  {
   "cell_type": "code",
   "execution_count": 98,
   "metadata": {},
   "outputs": [
    {
     "name": "stdout",
     "output_type": "stream",
     "text": [
      "F0 : 1535.0 : (1055.070781945363+1115.4630710916938j)\n",
      "F1 : 624.0 : (-121.30247950448103+612.5107329891015j)\n",
      "F2 : 14.0 : (-13.418432652225967+3.2275674067497135j)\n",
      "F3 : 41.0 : (20.967416368774177+35.46351049336954j)\n",
      "F4 : 18.0 : (8.0377141928739-16.450295284627252j)\n",
      "F5 : 10.0 : (2.6645340488357885+9.456034097373117j)\n",
      "F6 : 4.0 : (-0.0739308762330424-3.506917675931227j)\n",
      "F7 : 2.0 : (-0.026700972323840944-1.8745928551805768j)\n",
      "F8 : 2.0 : (1.1278264943099874-1.779770148553034j)\n",
      "F9 : 3.0 : (2.496281541714973-0.7256962287425637j)\n"
     ]
    }
   ],
   "source": [
    "# DFT\n",
    "\n",
    "def compute_fourier_descriptor(complex_signal, l):\n",
    "    \"\"\"\n",
    "    Return the lth fourier descriptor of complex_signal\n",
    "    A fourier descriptor is a complex number\n",
    "    \"\"\"\n",
    "    N = len(complex_signal)\n",
    "    \n",
    "    fl = 0\n",
    "    for k in range(0, N):\n",
    "        uk = complex_signal[k]\n",
    "        exponant = -2*cmath.pi*k*l/N*1j\n",
    "        fl += uk*cmath.exp(exponant)\n",
    "    return fl\n",
    "\n",
    "### TEST RUN ###\n",
    "\n",
    "img = zeros_im[0]\n",
    "c = get_contour(img)\n",
    "cs = compute_complex_signal(c)\n",
    "\n",
    "for l in range(0,10):\n",
    "    fl = compute_fourier_descriptor(cs, l)\n",
    "    print(\"F\" + str(l) + \" : \" + \n",
    "          str(round(abs(fl))) + \" : \" + \n",
    "          str(fl))"
   ]
  },
  {
   "cell_type": "code",
   "execution_count": 147,
   "metadata": {},
   "outputs": [
    {
     "data": {
      "text/plain": [
       "<matplotlib.legend.Legend at 0x7f99e52ddb38>"
      ]
     },
     "execution_count": 147,
     "metadata": {},
     "output_type": "execute_result"
    },
    {
     "data": {
      "image/png": "[encoded data removed]",
      "text/plain": [
       "<Figure size 432x288 with 1 Axes>"
      ]
     },
     "metadata": {
      "needs_background": "light"
     },
     "output_type": "display_data"
    }
   ],
   "source": [
    "# PLOT THE AMPLITUDE OF THE FIRST FOURIER DESCRIPTORS (F1 AND F2)\n",
    "\n",
    "def get_abs_fl(l, img):\n",
    "    \"\"\"\n",
    "    l : lth of the fourier descriptor to extract\n",
    "    Take a black and white img\n",
    "    Return a real number, \n",
    "    representing the amplitudes of the fourier descriptor \n",
    "    \"\"\"\n",
    "    c = get_contour(img)\n",
    "    cs = compute_complex_signal(c)\n",
    "    \n",
    "    # Compute the fourier descriptors\n",
    "    features = []\n",
    "    for l in descriptor_idx:\n",
    "        fl = compute_fourier_descriptor(cs, l)\n",
    "        features.append(abs(fl))\n",
    "    \n",
    "    return features\n",
    "\n",
    "\n",
    "### TEST RUN ###\n",
    "\n",
    "# print zeros' features\n",
    "zeros_features = [[],[]]    \n",
    "for im in ones_im:\n",
    "    for l in range(1,3):\n",
    "        zeros_features.append(get_abs_fl(l, im))\n",
    "\n",
    "    zeros_features[0].append(get_abs_fl())\n",
    "    zeros_features[1].append(abs_f2)\n",
    "plt.plot(zeros_features[0], zeros_features[1], 'bx')\n",
    "\n",
    "# print ones' features\n",
    "ones_features = [[],[]]    \n",
    "for im in zeros_im:\n",
    "    abs_f1, abs_f2 = get_features([1,2], im)\n",
    "    ones_features[0].append(abs_f1)\n",
    "    ones_features[1].append(abs_f2)\n",
    "plt.plot(ones_features[0], ones_features[1], 'ro')\n",
    "\n",
    "\n",
    "# make things pretty\n",
    "plt.xlabel(\"abs(f1)\")\n",
    "plt.ylabel(\"abs(f2)\")\n",
    "plt.legend([\"zeros\", \"ones\"])\n",
    "\n",
    "# plt.plot([1,2,3,4], [1,4,9,16], 'ro')\n"
   ]
  },
  {
   "cell_type": "code",
   "execution_count": 146,
   "metadata": {},
   "outputs": [
    {
     "data": {
      "image/png": "[encoded data removed]",
      "text/plain": [
       "<Figure size 864x216 with 20 Axes>"
      ]
     },
     "metadata": {
      "needs_background": "light"
     },
     "output_type": "display_data"
    }
   ],
   "source": [
    "### SHOW DESCRIPTORS OF PICS ###\n",
    "\n",
    "fig, axes = plt.subplots(2, len(zeros_im), figsize=(12, 3))\n",
    "for ax, im, nm in zip(axes[0], zeros_im, zeros_names):\n",
    "    c = get_contour(im)\n",
    "    cs = compute_complex_signal(c)\n",
    "    \n",
    "    title = nm\n",
    "    for l in range(0,3):\n",
    "        fl = compute_fourier_descriptor(cs, l)\n",
    "        title += \"\\n F\" + str(l) + \" : \" + str(round(abs(fl)))\n",
    "\n",
    "    ax.imshow(contour2matrix(c, im.shape), cmap='gray')\n",
    "    ax.axis('off')\n",
    "    ax.set_title(title)\n",
    "\n",
    "for ax, im, nm in zip(axes[1], ones_im, ones_names):\n",
    "    c = get_contour(im)\n",
    "    cs = compute_complex_signal(c)\n",
    "    \n",
    "    title = nm\n",
    "    for l in range(0,3):\n",
    "        fl = compute_fourier_descriptor(cs, l)\n",
    "        title += \"\\n F\" + str(l) + \" : \" + str(round(abs(fl)))\n",
    "\n",
    "    ax.imshow(contour2matrix(c, im.shape), cmap='gray')\n",
    "    ax.axis('off')\n",
    "    ax.set_title(title)\n",
    "    \n",
    "plt.tight_layout()"
   ]
  },
  {
   "cell_type": "code",
   "execution_count": 133,
   "metadata": {},
   "outputs": [
    {
     "name": "stdout",
     "output_type": "stream",
     "text": [
      "[624.4066700162494, 621.2264260242679, 653.8415447105759, 543.5112205793263, 601.8314206174823, 739.2879404222342, 728.1888172418937, 698.3137555047102, 798.2266066767183, 652.2264879027775]\n",
      "\n",
      "[13.801142206623227, 8.573263712883104, 29.468185448950802, 13.446040020772232, 24.59231240651725, 6.795301970688774, 2.9202636503568207, 9.636813550520968, 8.838357684041428, 47.68237742451629]\n",
      "\n"
     ]
    }
   ],
   "source": [
    "for one_f in ones_features:\n",
    "    print(one_f)\n",
    "    print()"
   ]
  },
  {
   "cell_type": "code",
   "execution_count": 129,
   "metadata": {},
   "outputs": [],
   "source": [
    "## TODO\n",
    "\n",
    "# - SHOW THAT THE STARTING POINT ONLY AFFECTS THE PHASE, NOT THE AMPLITUDE\n",
    "# - SHOW THAT TRANSLATION ONLY CHANGES F0\n",
    "# - SHOW THAT ROTATION ONLY CHANGE THE PHASE, NOT THE AMPLITUDE\n",
    "# - SHOW THAT SCALING DOES NOT CHANGE THE RATIO OF THE AMPLITUTDE\n",
    "# - USE 3 DESCRIPTORS INSTEAD OF 2"
   ]
  },
  {
   "cell_type": "markdown",
   "metadata": {},
   "source": [
    "### 1.3 Additional method(s)\n",
    "Add your implementation and discussion"
   ]
  },
  {
   "cell_type": "code",
   "execution_count": null,
   "metadata": {},
   "outputs": [],
   "source": []
  }
 ],
 "metadata": {
  "kernelspec": {
   "display_name": "Python 3",
   "language": "python",
   "name": "python3"
  },
  "language_info": {
   "codemirror_mode": {
    "name": "ipython",
    "version": 3
   },
   "file_extension": ".py",
   "mimetype": "text/x-python",
   "name": "python",
   "nbconvert_exporter": "python",
   "pygments_lexer": "ipython3",
   "version": "3.7.1"
  }
 },
 "nbformat": 4,
 "nbformat_minor": 2
}
